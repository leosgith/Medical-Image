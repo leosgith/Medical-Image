{
 "cells": [
  {
   "cell_type": "code",
   "execution_count": 1,
   "metadata": {
    "colab": {},
    "colab_type": "code",
    "id": "HbXKw-7fIMJm"
   },
   "outputs": [],
   "source": [
    "import os\n",
    "from os.path import join\n",
    "from IPython.display import Image, display\n",
    "import numpy as np\n",
    "import tempfile\n",
    "from sklearn.metrics import classification_report\n",
    "from sklearn.model_selection import train_test_split\n",
    "from tensorflow import keras\n",
    "from tensorflow.keras.preprocessing.image import load_img, ImageDataGenerator\n",
    "from tensorflow.keras.models import Sequential, load_model\n",
    "from tensorflow.keras.callbacks import ModelCheckpoint\n",
    "from tensorflow.keras.layers import Dense, Flatten, Conv2D, Conv1D,MaxPooling2D,Dropout,BatchNormalization,AveragePooling2D\n",
    "###Danial\n",
    "###Oleksii\n",
    "## Ates\n",
    "###Leo\n",
    "### we got this !"
   ]
  },
  {
   "cell_type": "code",
   "execution_count": 2,
   "metadata": {
    "colab": {
     "base_uri": "https://localhost:8080/",
     "height": 68
    },
    "colab_type": "code",
    "id": "fLHZlMaoWJLg",
    "outputId": "80ab42ec-9a97-445c-ada2-9523888a1f6c"
   },
   "outputs": [
    {
     "name": "stdout",
     "output_type": "stream",
     "text": [
      "Found 4199 images belonging to 2 classes.\n",
      "Found 644 images belonging to 2 classes.\n",
      "Found 1049 images belonging to 2 classes.\n"
     ]
    }
   ],
   "source": [
    "train_path = 'C:\\\\Users\\\\Dania\\\\Documents\\\\chest_xray\\\\train'\n",
    "val_path = 'C:\\\\Users\\\\Dania\\\\Documents\\\\chest_xray\\\\val'\n",
    "test_path = 'C:\\\\Users\\\\Dania\\\\Documents\\\\chest_xray\\\\test'\n",
    "train_batch = ImageDataGenerator(rescale=1./255,\n",
    "        shear_range=0.2,\n",
    "        zoom_range=0.2,\n",
    "        validation_split=0.2,\n",
    "        ).flow_from_directory(train_path,target_size = (100,100),classes =['NORMAL','PNEUMONIA'] ,batch_size=34,color_mode=\"rgb\",subset=\"training\")\n",
    "test_batch = ImageDataGenerator(rescale=1/255).flow_from_directory(test_path,target_size = (100,100),classes =['NORMAL','PNEUMONIA'] ,color_mode=\"rgb\")\n",
    "val_batch = ImageDataGenerator(rescale=1./255,\n",
    "        shear_range=0.2,\n",
    "        zoom_range=0.2,\n",
    "        horizontal_flip=True\n",
    "        ,validation_split=0.2).flow_from_directory(train_path,target_size = (100,100),classes =['NORMAL','PNEUMONIA'],batch_size=4,color_mode=\"rgb\",subset=\"validation\")\n",
    "def create_training_data(data_dir):\n",
    "    #creating the training data\n",
    "       #getting y_test once more, but dividing it into normal/ pneumonia (or 1/0) this time\n",
    "    labels = ['NORMAL', 'PNEUMONIA']\n",
    "    images = []\n",
    "\n",
    "    for label in labels:\n",
    "        dir = os.path.join(data_dir,label)\n",
    "        class_num = labels.index(label)\n",
    "\n",
    "\n",
    "        for image in os.listdir(dir):\n",
    "\n",
    "\n",
    "            images.append(class_num)\n",
    "\n",
    "    return np.array(images)"
   ]
  },
  {
   "cell_type": "code",
   "execution_count": 5,
   "metadata": {
    "colab": {
     "base_uri": "https://localhost:8080/",
     "height": 425
    },
    "colab_type": "code",
    "id": "0yjsRj5LXTIj",
    "outputId": "d607deb1-296f-4f58-f3d6-f74c5e539a0a"
   },
   "outputs": [
    {
     "name": "stdout",
     "output_type": "stream",
     "text": [
      "Model: \"sequential_1\"\n",
      "_________________________________________________________________\n",
      "Layer (type)                 Output Shape              Param #   \n",
      "=================================================================\n",
      "conv2d_1 (Conv2D)            (None, 98, 98, 16)        448       \n",
      "_________________________________________________________________\n",
      "dropout_1 (Dropout)          (None, 98, 98, 16)        0         \n",
      "_________________________________________________________________\n",
      "average_pooling2d (AveragePo (None, 49, 49, 16)        0         \n",
      "_________________________________________________________________\n",
      "conv2d_2 (Conv2D)            (None, 47, 47, 32)        4640      \n",
      "_________________________________________________________________\n",
      "dropout_2 (Dropout)          (None, 47, 47, 32)        0         \n",
      "_________________________________________________________________\n",
      "average_pooling2d_1 (Average (None, 23, 23, 32)        0         \n",
      "_________________________________________________________________\n",
      "flatten (Flatten)            (None, 16928)             0         \n",
      "_________________________________________________________________\n",
      "dense (Dense)                (None, 512)               8667648   \n",
      "_________________________________________________________________\n",
      "dropout_3 (Dropout)          (None, 512)               0         \n",
      "_________________________________________________________________\n",
      "dense_1 (Dense)              (None, 2)                 1026      \n",
      "=================================================================\n",
      "Total params: 8,673,762\n",
      "Trainable params: 8,673,762\n",
      "Non-trainable params: 0\n",
      "_________________________________________________________________\n"
     ]
    }
   ],
   "source": [
    "my_net=Sequential()\n",
    "my_net.add(Conv2D(16, (3, 3), activation=\"relu\", input_shape=(100,100,3)))\n",
    "my_net.add(Dropout(0.3))\n",
    "my_net.add(AveragePooling2D())\n",
    "my_net.add(Conv2D(32, (3, 3), activation=\"relu\" ))\n",
    "my_net.add(Dropout(0.3))\n",
    "my_net.add(AveragePooling2D())\n",
    "my_net.add(Flatten())\n",
    "my_net.add(Dense(512, activation = 'relu'))\n",
    "my_net.add(Dropout(0.6))\n",
    "my_net.add(Dense(2,activation = 'softmax'))\n",
    "\n",
    "my_net.summary()"
   ]
  },
  {
   "cell_type": "code",
   "execution_count": null,
   "metadata": {
    "colab": {
     "base_uri": "https://localhost:8080/",
     "height": 51
    },
    "colab_type": "code",
    "id": "MoYVWsoaXVak",
    "outputId": "879cf7a7-863e-465c-adfd-1a4d9411acee"
   },
   "outputs": [],
   "source": [
    "my_net.compile(loss = 'binary_crossentropy', optimizer = 'adam',metrics=['accuracy'])\n",
    "checkpoint = ModelCheckpoint(\"./val\", monitor='val_accuracy', verbose=1, save_best_only=True, mode='max')\n",
    "callbacks_list = [checkpoint]\n",
    "my_net.fit(train_batch,epochs = 2,callbacks=callbacks_list,validation_data = val_batch)"
   ]
  },
  {
   "cell_type": "code",
   "execution_count": null,
   "metadata": {
    "colab": {
     "base_uri": "https://localhost:8080/",
     "height": 51
    },
    "colab_type": "code",
    "id": "GrPWYEApWGLh",
    "outputId": "6fa12497-729b-4f23-cd33-cd7f142ccef5"
   },
   "outputs": [],
   "source": [
    "\n",
    "print(my_net.evaluate(test_batch,metrics[\"categorial_accuracy\"]))\n",
    "\n",
    "\n"
   ]
  },
  {
   "cell_type": "code",
   "execution_count": null,
   "metadata": {},
   "outputs": [],
   "source": [
    "#my_net.save(\"C:\\\\model90\")"
   ]
  },
  {
   "cell_type": "code",
   "execution_count": null,
   "metadata": {},
   "outputs": [],
   "source": [
    "y_img_batch, y_class_batch = test_batch[0] \n",
    "y_pred = np.argmax(my_net.predict(y_img_batch),-1)\n",
    "y_true = np.argmax(y_class_batch,-1)\n",
    "#y_pred_bool = y_pred_bool.reshape(644,1)\n",
    "print(y_true.shape)\n",
    "print(classification_report(y_true, y_pred))"
   ]
  },
  {
   "cell_type": "code",
   "execution_count": null,
   "metadata": {},
   "outputs": [],
   "source": [
    "\n",
    "print(y_true,y_pred)"
   ]
  },
  {
   "cell_type": "code",
   "execution_count": null,
   "metadata": {},
   "outputs": [],
   "source": []
  },
  {
   "cell_type": "code",
   "execution_count": null,
   "metadata": {},
   "outputs": [],
   "source": []
  }
 ],
 "metadata": {
  "colab": {
   "collapsed_sections": [],
   "name": "Copy of Copy of ML_potential_project.ipynb",
   "provenance": []
  },
  "kernelspec": {
   "display_name": "Python 3",
   "language": "python",
   "name": "python3"
  },
  "language_info": {
   "codemirror_mode": {
    "name": "ipython",
    "version": 3
   },
   "file_extension": ".py",
   "mimetype": "text/x-python",
   "name": "python",
   "nbconvert_exporter": "python",
   "pygments_lexer": "ipython3",
   "version": "3.8.3"
  }
 },
 "nbformat": 4,
 "nbformat_minor": 4
}
